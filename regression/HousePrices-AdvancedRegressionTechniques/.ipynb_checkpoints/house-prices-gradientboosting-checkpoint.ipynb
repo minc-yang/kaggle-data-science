{
 "cells": [
  {
   "cell_type": "code",
   "execution_count": 1,
   "metadata": {
    "_cell_guid": "b1076dfc-b9ad-4769-8c92-a6c4dae69d19",
    "_uuid": "8f2839f25d086af736a60e9eeb907d3b93b6e0e5"
   },
   "outputs": [],
   "source": [
    "import pandas as pd\n",
    "import numpy as np\n",
    "import os\n",
    "from sklearn.linear_model import Ridge\n",
    "from sklearn.ensemble import GradientBoostingRegressor\n",
    "import warnings\n",
    "def ignore_warn(*args, **kwargs):\n",
    "    pass\n",
    "warnings.warn = ignore_warn #ignore  warning (from sklearn)\n",
    "\n",
    "#print(os.listdir(\"../input\"))"
   ]
  },
  {
   "cell_type": "markdown",
   "metadata": {
    "_cell_guid": "79c7e3d0-c299-4dcb-8224-4455121ee9b0",
    "_uuid": "d629ff2d2480ee46fbb7e2d37f6b5fab8052498a",
    "collapsed": true
   },
   "source": [
    "Let's Load the Data"
   ]
  },
  {
   "cell_type": "code",
   "execution_count": 2,
   "metadata": {
    "_uuid": "d1235628353be66cfcfa49e1a96144c41610737f"
   },
   "outputs": [],
   "source": [
    "house_data = pd.read_csv('../input/train.csv')\n",
    "house_data_test = pd.read_csv('../input/test.csv')"
   ]
  },
  {
   "cell_type": "markdown",
   "metadata": {
    "_uuid": "e02761ffea43954fe259f3609629f247425fdc91"
   },
   "source": [
    "**Data Cleaning**"
   ]
  },
  {
   "cell_type": "markdown",
   "metadata": {
    "_uuid": "036f329cf8e1d8225e68ed2dddd0bf1e80bb1c53"
   },
   "source": [
    "Will store the Id column(information) from test dataframe ,in test_parent dataframe.\n",
    "\n",
    "Then let's drop the Id column from both test and train data. "
   ]
  },
  {
   "cell_type": "code",
   "execution_count": 3,
   "metadata": {
    "_uuid": "5e07bd6494de9e9af629de2b2c86df4d936f38a8"
   },
   "outputs": [],
   "source": [
    "train_parent=house_data\n",
    "test_parent=house_data_test \n",
    "house_data = house_data.drop('Id', axis=1)\n",
    "house_data_test = house_data_test.drop('Id', axis=1)"
   ]
  },
  {
   "cell_type": "markdown",
   "metadata": {
    "_uuid": "76a6146f00d60d40b745647143af039cfecf6a8e"
   },
   "source": [
    "Now we will analyze the NaN values present in the dataset and deal with them ."
   ]
  },
  {
   "cell_type": "code",
   "execution_count": 4,
   "metadata": {
    "_uuid": "afac0a0e9f17b3e95a838721fd3e9b9772a36100"
   },
   "outputs": [
    {
     "data": {
      "text/plain": [
       "Index(['Alley', 'FireplaceQu', 'PoolQC', 'Fence', 'MiscFeature'], dtype='object')"
      ]
     },
     "execution_count": 4,
     "metadata": {},
     "output_type": "execute_result"
    }
   ],
   "source": [
    "#We will find all the columns which have more than 40 % NaN data and drop then\n",
    "threshold=0.4 * len(house_data)\n",
    "df=pd.DataFrame(len(house_data) - house_data.count(),columns=['count'])\n",
    "df.index[df['count'] > threshold]"
   ]
  },
  {
   "cell_type": "code",
   "execution_count": 5,
   "metadata": {
    "_uuid": "b3a98305d5f875605d2b8ec88b662ceb82717d92"
   },
   "outputs": [],
   "source": [
    "house_data = house_data.drop(['Alley', 'FireplaceQu', 'PoolQC', 'Fence', 'MiscFeature'], axis=1)\n",
    "house_data_test = house_data_test.drop(['Alley', 'FireplaceQu', 'PoolQC', 'Fence', 'MiscFeature'], axis=1)"
   ]
  },
  {
   "cell_type": "markdown",
   "metadata": {
    "_uuid": "99eb92308f2619d5d97cb99704874fe324822f65"
   },
   "source": [
    "Will verify that the Label is a numeric data"
   ]
  },
  {
   "cell_type": "code",
   "execution_count": 6,
   "metadata": {
    "_uuid": "0da161c6e3a3b5d284845c249935ddd144032be5"
   },
   "outputs": [
    {
     "data": {
      "text/plain": [
       "count      1460.000000\n",
       "mean     180921.195890\n",
       "std       79442.502883\n",
       "min       34900.000000\n",
       "25%      129975.000000\n",
       "50%      163000.000000\n",
       "75%      214000.000000\n",
       "max      755000.000000\n",
       "Name: SalePrice, dtype: float64"
      ]
     },
     "execution_count": 6,
     "metadata": {},
     "output_type": "execute_result"
    }
   ],
   "source": [
    "house_data['SalePrice'].describe()"
   ]
  },
  {
   "cell_type": "markdown",
   "metadata": {
    "_uuid": "67abfdf46271747ce4c34c935fb9eba65fcbf81e"
   },
   "source": [
    "Find all the numeric columns and replace the NaN values with 0 ,\n",
    "and for categorical columns ,replace NaN values with 'None'."
   ]
  },
  {
   "cell_type": "code",
   "execution_count": 7,
   "metadata": {
    "_uuid": "93e07fd8d1faeb6c707f6148f431b29597e35775"
   },
   "outputs": [],
   "source": [
    "house_data.select_dtypes(include=np.number).columns #will give all numeric columns ,we will remove the SalePrice column \n",
    "for col in ('MSSubClass', 'LotFrontage', 'LotArea', 'OverallQual', 'OverallCond',\n",
    "       'YearBuilt', 'YearRemodAdd', 'MasVnrArea', 'BsmtFinSF1', 'BsmtFinSF2',\n",
    "       'BsmtUnfSF', 'TotalBsmtSF', '1stFlrSF', '2ndFlrSF', 'LowQualFinSF',\n",
    "       'GrLivArea', 'BsmtFullBath', 'BsmtHalfBath', 'FullBath', 'HalfBath',\n",
    "       'BedroomAbvGr', 'KitchenAbvGr', 'TotRmsAbvGrd', 'Fireplaces',\n",
    "       'GarageYrBlt', 'GarageCars', 'GarageArea', 'WoodDeckSF', 'OpenPorchSF',\n",
    "       'EnclosedPorch', '3SsnPorch', 'ScreenPorch', 'PoolArea', 'MiscVal',\n",
    "       'MoSold', 'YrSold'):\n",
    "    \n",
    "    house_data[col] = house_data[col].fillna(0)\n",
    "    house_data_test[col] = house_data_test[col].fillna('0')"
   ]
  },
  {
   "cell_type": "code",
   "execution_count": 8,
   "metadata": {
    "_uuid": "2f9e9e04e91c63118ebd3598347a6d914f24da64"
   },
   "outputs": [],
   "source": [
    "house_data.select_dtypes(exclude=np.number).columns\n",
    "for col in ('MSZoning', 'Street', 'LotShape', 'LandContour', 'Utilities',\n",
    "       'LotConfig', 'LandSlope', 'Neighborhood', 'Condition1', 'Condition2',\n",
    "       'BldgType', 'HouseStyle', 'RoofStyle', 'RoofMatl', 'Exterior1st',\n",
    "       'Exterior2nd', 'MasVnrType', 'ExterQual', 'ExterCond', 'Foundation',\n",
    "       'BsmtQual', 'BsmtCond', 'BsmtExposure', 'BsmtFinType1', 'BsmtFinType2',\n",
    "       'Heating', 'HeatingQC', 'CentralAir', 'Electrical', 'KitchenQual',\n",
    "       'Functional', 'GarageType', 'GarageFinish', 'GarageQual', 'GarageCond',\n",
    "       'PavedDrive', 'SaleType', 'SaleCondition'):\n",
    "    \n",
    "    house_data[col] = house_data[col].fillna('None')\n",
    "    house_data_test[col] = house_data_test[col].fillna('None')"
   ]
  },
  {
   "cell_type": "markdown",
   "metadata": {
    "_uuid": "1076459566ed2fe3acc4cf1c549a4b6345ac8b5e"
   },
   "source": [
    "Verify that there are no null values in the data set"
   ]
  },
  {
   "cell_type": "code",
   "execution_count": 9,
   "metadata": {
    "_uuid": "65917dcae9ae31639eb119aed226f28c73ccd39f"
   },
   "outputs": [
    {
     "data": {
      "text/html": [
       "<div>\n",
       "<style scoped>\n",
       "    .dataframe tbody tr th:only-of-type {\n",
       "        vertical-align: middle;\n",
       "    }\n",
       "\n",
       "    .dataframe tbody tr th {\n",
       "        vertical-align: top;\n",
       "    }\n",
       "\n",
       "    .dataframe thead th {\n",
       "        text-align: right;\n",
       "    }\n",
       "</style>\n",
       "<table border=\"1\" class=\"dataframe\">\n",
       "  <thead>\n",
       "    <tr style=\"text-align: right;\">\n",
       "      <th></th>\n",
       "      <th>MSSubClass</th>\n",
       "      <th>MSZoning</th>\n",
       "      <th>LotFrontage</th>\n",
       "      <th>LotArea</th>\n",
       "      <th>Street</th>\n",
       "      <th>LotShape</th>\n",
       "      <th>LandContour</th>\n",
       "      <th>Utilities</th>\n",
       "      <th>LotConfig</th>\n",
       "      <th>LandSlope</th>\n",
       "      <th>Neighborhood</th>\n",
       "      <th>Condition1</th>\n",
       "      <th>Condition2</th>\n",
       "      <th>BldgType</th>\n",
       "      <th>HouseStyle</th>\n",
       "      <th>OverallQual</th>\n",
       "      <th>OverallCond</th>\n",
       "      <th>YearBuilt</th>\n",
       "      <th>YearRemodAdd</th>\n",
       "      <th>RoofStyle</th>\n",
       "      <th>RoofMatl</th>\n",
       "      <th>Exterior1st</th>\n",
       "      <th>Exterior2nd</th>\n",
       "      <th>MasVnrType</th>\n",
       "      <th>MasVnrArea</th>\n",
       "      <th>ExterQual</th>\n",
       "      <th>ExterCond</th>\n",
       "      <th>Foundation</th>\n",
       "      <th>BsmtQual</th>\n",
       "      <th>BsmtCond</th>\n",
       "      <th>BsmtExposure</th>\n",
       "      <th>BsmtFinType1</th>\n",
       "      <th>BsmtFinSF1</th>\n",
       "      <th>BsmtFinType2</th>\n",
       "      <th>BsmtFinSF2</th>\n",
       "      <th>BsmtUnfSF</th>\n",
       "      <th>TotalBsmtSF</th>\n",
       "      <th>Heating</th>\n",
       "      <th>HeatingQC</th>\n",
       "      <th>CentralAir</th>\n",
       "      <th>Electrical</th>\n",
       "      <th>1stFlrSF</th>\n",
       "      <th>2ndFlrSF</th>\n",
       "      <th>LowQualFinSF</th>\n",
       "      <th>GrLivArea</th>\n",
       "      <th>BsmtFullBath</th>\n",
       "      <th>BsmtHalfBath</th>\n",
       "      <th>FullBath</th>\n",
       "      <th>HalfBath</th>\n",
       "      <th>BedroomAbvGr</th>\n",
       "      <th>KitchenAbvGr</th>\n",
       "      <th>KitchenQual</th>\n",
       "      <th>TotRmsAbvGrd</th>\n",
       "      <th>Functional</th>\n",
       "      <th>Fireplaces</th>\n",
       "      <th>GarageType</th>\n",
       "      <th>GarageYrBlt</th>\n",
       "      <th>GarageFinish</th>\n",
       "      <th>GarageCars</th>\n",
       "      <th>GarageArea</th>\n",
       "      <th>GarageQual</th>\n",
       "      <th>GarageCond</th>\n",
       "      <th>PavedDrive</th>\n",
       "      <th>WoodDeckSF</th>\n",
       "      <th>OpenPorchSF</th>\n",
       "      <th>EnclosedPorch</th>\n",
       "      <th>3SsnPorch</th>\n",
       "      <th>ScreenPorch</th>\n",
       "      <th>PoolArea</th>\n",
       "      <th>MiscVal</th>\n",
       "      <th>MoSold</th>\n",
       "      <th>YrSold</th>\n",
       "      <th>SaleType</th>\n",
       "      <th>SaleCondition</th>\n",
       "      <th>SalePrice</th>\n",
       "    </tr>\n",
       "  </thead>\n",
       "  <tbody>\n",
       "  </tbody>\n",
       "</table>\n",
       "</div>"
      ],
      "text/plain": [
       "Empty DataFrame\n",
       "Columns: [MSSubClass, MSZoning, LotFrontage, LotArea, Street, LotShape, LandContour, Utilities, LotConfig, LandSlope, Neighborhood, Condition1, Condition2, BldgType, HouseStyle, OverallQual, OverallCond, YearBuilt, YearRemodAdd, RoofStyle, RoofMatl, Exterior1st, Exterior2nd, MasVnrType, MasVnrArea, ExterQual, ExterCond, Foundation, BsmtQual, BsmtCond, BsmtExposure, BsmtFinType1, BsmtFinSF1, BsmtFinType2, BsmtFinSF2, BsmtUnfSF, TotalBsmtSF, Heating, HeatingQC, CentralAir, Electrical, 1stFlrSF, 2ndFlrSF, LowQualFinSF, GrLivArea, BsmtFullBath, BsmtHalfBath, FullBath, HalfBath, BedroomAbvGr, KitchenAbvGr, KitchenQual, TotRmsAbvGrd, Functional, Fireplaces, GarageType, GarageYrBlt, GarageFinish, GarageCars, GarageArea, GarageQual, GarageCond, PavedDrive, WoodDeckSF, OpenPorchSF, EnclosedPorch, 3SsnPorch, ScreenPorch, PoolArea, MiscVal, MoSold, YrSold, SaleType, SaleCondition, SalePrice]\n",
       "Index: []"
      ]
     },
     "execution_count": 9,
     "metadata": {},
     "output_type": "execute_result"
    }
   ],
   "source": [
    "house_data[house_data.isnull().any(axis=1)]"
   ]
  },
  {
   "cell_type": "code",
   "execution_count": 10,
   "metadata": {
    "_uuid": "e2a92b27a95095f70f5531222e6bb2d0225f040c",
    "scrolled": true
   },
   "outputs": [
    {
     "data": {
      "text/html": [
       "<div>\n",
       "<style scoped>\n",
       "    .dataframe tbody tr th:only-of-type {\n",
       "        vertical-align: middle;\n",
       "    }\n",
       "\n",
       "    .dataframe tbody tr th {\n",
       "        vertical-align: top;\n",
       "    }\n",
       "\n",
       "    .dataframe thead th {\n",
       "        text-align: right;\n",
       "    }\n",
       "</style>\n",
       "<table border=\"1\" class=\"dataframe\">\n",
       "  <thead>\n",
       "    <tr style=\"text-align: right;\">\n",
       "      <th></th>\n",
       "      <th>MSSubClass</th>\n",
       "      <th>MSZoning</th>\n",
       "      <th>LotFrontage</th>\n",
       "      <th>LotArea</th>\n",
       "      <th>Street</th>\n",
       "      <th>LotShape</th>\n",
       "      <th>LandContour</th>\n",
       "      <th>Utilities</th>\n",
       "      <th>LotConfig</th>\n",
       "      <th>LandSlope</th>\n",
       "      <th>Neighborhood</th>\n",
       "      <th>Condition1</th>\n",
       "      <th>Condition2</th>\n",
       "      <th>BldgType</th>\n",
       "      <th>HouseStyle</th>\n",
       "      <th>OverallQual</th>\n",
       "      <th>OverallCond</th>\n",
       "      <th>YearBuilt</th>\n",
       "      <th>YearRemodAdd</th>\n",
       "      <th>RoofStyle</th>\n",
       "      <th>RoofMatl</th>\n",
       "      <th>Exterior1st</th>\n",
       "      <th>Exterior2nd</th>\n",
       "      <th>MasVnrType</th>\n",
       "      <th>MasVnrArea</th>\n",
       "      <th>ExterQual</th>\n",
       "      <th>ExterCond</th>\n",
       "      <th>Foundation</th>\n",
       "      <th>BsmtQual</th>\n",
       "      <th>BsmtCond</th>\n",
       "      <th>BsmtExposure</th>\n",
       "      <th>BsmtFinType1</th>\n",
       "      <th>BsmtFinSF1</th>\n",
       "      <th>BsmtFinType2</th>\n",
       "      <th>BsmtFinSF2</th>\n",
       "      <th>BsmtUnfSF</th>\n",
       "      <th>TotalBsmtSF</th>\n",
       "      <th>Heating</th>\n",
       "      <th>HeatingQC</th>\n",
       "      <th>CentralAir</th>\n",
       "      <th>Electrical</th>\n",
       "      <th>1stFlrSF</th>\n",
       "      <th>2ndFlrSF</th>\n",
       "      <th>LowQualFinSF</th>\n",
       "      <th>GrLivArea</th>\n",
       "      <th>BsmtFullBath</th>\n",
       "      <th>BsmtHalfBath</th>\n",
       "      <th>FullBath</th>\n",
       "      <th>HalfBath</th>\n",
       "      <th>BedroomAbvGr</th>\n",
       "      <th>KitchenAbvGr</th>\n",
       "      <th>KitchenQual</th>\n",
       "      <th>TotRmsAbvGrd</th>\n",
       "      <th>Functional</th>\n",
       "      <th>Fireplaces</th>\n",
       "      <th>GarageType</th>\n",
       "      <th>GarageYrBlt</th>\n",
       "      <th>GarageFinish</th>\n",
       "      <th>GarageCars</th>\n",
       "      <th>GarageArea</th>\n",
       "      <th>GarageQual</th>\n",
       "      <th>GarageCond</th>\n",
       "      <th>PavedDrive</th>\n",
       "      <th>WoodDeckSF</th>\n",
       "      <th>OpenPorchSF</th>\n",
       "      <th>EnclosedPorch</th>\n",
       "      <th>3SsnPorch</th>\n",
       "      <th>ScreenPorch</th>\n",
       "      <th>PoolArea</th>\n",
       "      <th>MiscVal</th>\n",
       "      <th>MoSold</th>\n",
       "      <th>YrSold</th>\n",
       "      <th>SaleType</th>\n",
       "      <th>SaleCondition</th>\n",
       "    </tr>\n",
       "  </thead>\n",
       "  <tbody>\n",
       "  </tbody>\n",
       "</table>\n",
       "</div>"
      ],
      "text/plain": [
       "Empty DataFrame\n",
       "Columns: [MSSubClass, MSZoning, LotFrontage, LotArea, Street, LotShape, LandContour, Utilities, LotConfig, LandSlope, Neighborhood, Condition1, Condition2, BldgType, HouseStyle, OverallQual, OverallCond, YearBuilt, YearRemodAdd, RoofStyle, RoofMatl, Exterior1st, Exterior2nd, MasVnrType, MasVnrArea, ExterQual, ExterCond, Foundation, BsmtQual, BsmtCond, BsmtExposure, BsmtFinType1, BsmtFinSF1, BsmtFinType2, BsmtFinSF2, BsmtUnfSF, TotalBsmtSF, Heating, HeatingQC, CentralAir, Electrical, 1stFlrSF, 2ndFlrSF, LowQualFinSF, GrLivArea, BsmtFullBath, BsmtHalfBath, FullBath, HalfBath, BedroomAbvGr, KitchenAbvGr, KitchenQual, TotRmsAbvGrd, Functional, Fireplaces, GarageType, GarageYrBlt, GarageFinish, GarageCars, GarageArea, GarageQual, GarageCond, PavedDrive, WoodDeckSF, OpenPorchSF, EnclosedPorch, 3SsnPorch, ScreenPorch, PoolArea, MiscVal, MoSold, YrSold, SaleType, SaleCondition]\n",
       "Index: []"
      ]
     },
     "execution_count": 10,
     "metadata": {},
     "output_type": "execute_result"
    }
   ],
   "source": [
    "house_data_test[house_data_test.isnull().any(axis=1)]"
   ]
  },
  {
   "cell_type": "markdown",
   "metadata": {
    "_uuid": "48fa9231f3fddd214bc0176c381dcfe33a6b4545"
   },
   "source": [
    " **Combining the two datasets and then doing One Hot Encoding on the combined dataset.**"
   ]
  },
  {
   "cell_type": "code",
   "execution_count": 11,
   "metadata": {
    "_uuid": "bb2f7a12cb317af49afde6bd9eb61e4fe171ef2e"
   },
   "outputs": [],
   "source": [
    "train=house_data\n",
    "test=house_data_test\n",
    "\n",
    "#Assigning a flag to training and testing dataset for segregation after OHE .\n",
    "train['train']=1 \n",
    "test['train']=0\n",
    "\n",
    "#Combining training and testing dataset\n",
    "\n",
    "combined=pd.concat([train,test])"
   ]
  },
  {
   "cell_type": "code",
   "execution_count": 12,
   "metadata": {
    "_uuid": "140f0a60f097a2cd68550e9718bbd49b7612938f"
   },
   "outputs": [],
   "source": [
    "#Applying One Hot Encoding to categorical data\n",
    "ohe_data_frame=pd.get_dummies(combined, \n",
    "                           columns=['MSZoning', 'Street', 'LotShape', 'LandContour', 'Utilities',\n",
    "       'LotConfig', 'LandSlope', 'Neighborhood', 'Condition1', 'Condition2',\n",
    "       'BldgType', 'HouseStyle', 'RoofStyle', 'RoofMatl', 'Exterior1st',\n",
    "       'Exterior2nd', 'MasVnrType', 'ExterQual', 'ExterCond', 'Foundation',\n",
    "       'BsmtQual', 'BsmtCond', 'BsmtExposure', 'BsmtFinType1', 'BsmtFinType2',\n",
    "       'Heating', 'HeatingQC', 'CentralAir', 'Electrical', 'KitchenQual',\n",
    "       'Functional', 'GarageType', 'GarageFinish', 'GarageQual', 'GarageCond',\n",
    "       'PavedDrive', 'SaleType', 'SaleCondition'],\n",
    "      )"
   ]
  },
  {
   "cell_type": "code",
   "execution_count": 13,
   "metadata": {
    "_uuid": "0e227d9140b54c458725f163a3644dc574277789"
   },
   "outputs": [],
   "source": [
    "#Splitting the combined dataset after doing OHE .\n",
    "train_df=ohe_data_frame[ohe_data_frame['train']==1]\n",
    "test_df=ohe_data_frame[ohe_data_frame['train']==0]\n",
    "train_df.drop(['train'],axis=1,inplace=True)             #Drop the Flag(train) coloumn from training dataset\n",
    "test_df.drop(['train','SalePrice'],axis=1,inplace=True)     #Drop the Flag(train),Label(SalePrice) coloumn from test dataset"
   ]
  },
  {
   "cell_type": "code",
   "execution_count": 14,
   "metadata": {
    "_uuid": "4be74bb2190e15ce8c48a6903f382731bc34e8b7"
   },
   "outputs": [],
   "source": [
    "house_data=train_df\n",
    "house_data_test=test_df"
   ]
  },
  {
   "cell_type": "markdown",
   "metadata": {
    "_uuid": "7870fd46ace243be10851e61350edca56163af99"
   },
   "source": [
    "**Data Cleaning is now complete We can now use our data to build our models**"
   ]
  },
  {
   "cell_type": "code",
   "execution_count": 15,
   "metadata": {
    "_uuid": "2ca0a14d2ad1f90c0e57c7ebe06520e0e24398a1"
   },
   "outputs": [],
   "source": [
    "X_train = house_data.drop('SalePrice', axis=1)\n",
    "# Taking the labels (price)\n",
    "Y_train = house_data['SalePrice']\n",
    "X_test = house_data_test"
   ]
  },
  {
   "cell_type": "markdown",
   "metadata": {
    "_uuid": "4e13a237318237545a49615cd03415be55b12a63"
   },
   "source": [
    "Let's apply Gradient Boosting for regression and find the best parameter for GBR using GridSearchCV    "
   ]
  },
  {
   "cell_type": "code",
   "execution_count": 16,
   "metadata": {
    "_uuid": "69458cda055a67212a8a441eae629bb06c17fb10"
   },
   "outputs": [
    {
     "data": {
      "text/plain": [
       "\"  \\nfrom sklearn.model_selection import GridSearchCV\\n\\nnum_estimators = [100, 200, 500]\\nlearn_rates = [0.01, 0.02, 0.05, 0.1]\\nmax_depths = [4, 6, 8]\\n\\nparam_grid = {'n_estimators': num_estimators,\\n              'learning_rate': learn_rates,\\n              'max_depth': max_depths}\\n\\ngrid_search = GridSearchCV(GradientBoostingRegressor(min_samples_split=2, loss='ls'),\\n                           param_grid, cv=3, return_train_score=True)\\ngrid_search.fit(X_train, Y_train)\\n\\ngrid_search.best_params_  \\n\""
      ]
     },
     "execution_count": 16,
     "metadata": {},
     "output_type": "execute_result"
    }
   ],
   "source": [
    "\"\"\"  \n",
    "from sklearn.model_selection import GridSearchCV\n",
    "\n",
    "num_estimators = [100, 200, 500]\n",
    "learn_rates = [0.01, 0.02, 0.05, 0.1]\n",
    "max_depths = [4, 6, 8]\n",
    "\n",
    "param_grid = {'n_estimators': num_estimators,\n",
    "              'learning_rate': learn_rates,\n",
    "              'max_depth': max_depths}\n",
    "\n",
    "grid_search = GridSearchCV(GradientBoostingRegressor(min_samples_split=2, loss='ls'),\n",
    "                           param_grid, cv=3, return_train_score=True)\n",
    "grid_search.fit(X_train, Y_train)\n",
    "\n",
    "grid_search.best_params_  \n",
    "\"\"\""
   ]
  },
  {
   "cell_type": "code",
   "execution_count": 17,
   "metadata": {
    "_uuid": "c2825b7897fbd7133129439eded3ac9a500fa398"
   },
   "outputs": [
    {
     "data": {
      "text/plain": [
       "GradientBoostingRegressor(alpha=0.9, criterion='friedman_mse', init=None,\n",
       "             learning_rate=0.1, loss='ls', max_depth=4, max_features=None,\n",
       "             max_leaf_nodes=None, min_impurity_decrease=0.0,\n",
       "             min_impurity_split=None, min_samples_leaf=1,\n",
       "             min_samples_split=2, min_weight_fraction_leaf=0.0,\n",
       "             n_estimators=500, n_iter_no_change=None, presort='auto',\n",
       "             random_state=None, subsample=1.0, tol=0.0001,\n",
       "             validation_fraction=0.1, verbose=0, warm_start=False)"
      ]
     },
     "execution_count": 17,
     "metadata": {},
     "output_type": "execute_result"
    }
   ],
   "source": [
    "#GardientBoosting\n",
    "params = {'n_estimators': 500, 'max_depth': 4, 'min_samples_split': 2,\n",
    "          'learning_rate': 0.1, 'loss': 'ls'}\n",
    "gbr_model = GradientBoostingRegressor(**params)\n",
    "gbr_model.fit(X_train, Y_train)"
   ]
  },
  {
   "cell_type": "code",
   "execution_count": 18,
   "metadata": {
    "_uuid": "f1327a1a898073d3891fcc0877ea093226643776"
   },
   "outputs": [
    {
     "data": {
      "text/plain": [
       "0.997857379737625"
      ]
     },
     "execution_count": 18,
     "metadata": {},
     "output_type": "execute_result"
    }
   ],
   "source": [
    "gbr_model.score(X_train, Y_train)"
   ]
  },
  {
   "cell_type": "code",
   "execution_count": 19,
   "metadata": {
    "_uuid": "7dff945096ed5123e7165b415609c479c201f58c"
   },
   "outputs": [
    {
     "name": "stdout",
     "output_type": "stream",
     "text": [
      "[126094.58131761 166852.84527976 186235.76392715 ... 158488.63572855\n",
      " 114096.7144326  222305.81656333]\n"
     ]
    }
   ],
   "source": [
    "#Predicting the SalePrice for the test data\n",
    "y_grad_predict = gbr_model.predict(X_test)\n",
    "print(y_grad_predict)"
   ]
  },
  {
   "cell_type": "code",
   "execution_count": 20,
   "metadata": {
    "_uuid": "d2be6697bdc667b0e89beb6922c276a2bda14961",
    "scrolled": true
   },
   "outputs": [
    {
     "name": "stdout",
     "output_type": "stream",
     "text": [
      "        Id      SalePrice\n",
      "0     1461  126094.581318\n",
      "1     1462  166852.845280\n",
      "2     1463  186235.763927\n",
      "3     1464  194985.629689\n",
      "4     1465  187131.078478\n",
      "5     1466  175615.964225\n",
      "6     1467  162572.584677\n",
      "7     1468  166966.515617\n",
      "8     1469  189027.850122\n",
      "9     1470  127764.454796\n",
      "10    1471  195926.187678\n",
      "11    1472   92454.967681\n",
      "12    1473   96009.334597\n",
      "13    1474  153991.708051\n",
      "14    1475  132908.261123\n",
      "15    1476  383883.963959\n",
      "16    1477  256019.802808\n",
      "17    1478  302340.504341\n",
      "18    1479  267992.743345\n",
      "19    1480  460225.606419\n",
      "20    1481  327837.728008\n",
      "21    1482  208823.790673\n",
      "22    1483  166843.028693\n",
      "23    1484  162177.057440\n",
      "24    1485  176622.765288\n",
      "25    1486  192391.753091\n",
      "26    1487  369029.353883\n",
      "27    1488  235527.873627\n",
      "28    1489  213695.518167\n",
      "29    1490  221906.760850\n",
      "...    ...            ...\n",
      "1429  2890   85240.298746\n",
      "1430  2891  131798.329840\n",
      "1431  2892   37604.777241\n",
      "1432  2893   81657.075834\n",
      "1433  2894   45442.553932\n",
      "1434  2895  333246.538864\n",
      "1435  2896  278792.493476\n",
      "1436  2897  201234.186365\n",
      "1437  2898  141685.291260\n",
      "1438  2899  220487.991851\n",
      "1439  2900  158621.327441\n",
      "1440  2901  221244.144407\n",
      "1441  2902  189133.797422\n",
      "1442  2903  348183.648448\n",
      "1443  2904  369279.566171\n",
      "1444  2905   92573.663437\n",
      "1445  2906  207187.170077\n",
      "1446  2907  110982.367247\n",
      "1447  2908  136368.677556\n",
      "1448  2909  135114.524376\n",
      "1449  2910   83420.272550\n",
      "1450  2911   78329.635149\n",
      "1451  2912  143090.363058\n",
      "1452  2913   74034.258640\n",
      "1453  2914   72356.040260\n",
      "1454  2915   77434.109594\n",
      "1455  2916   75572.126884\n",
      "1456  2917  158488.635729\n",
      "1457  2918  114096.714433\n",
      "1458  2919  222305.816563\n",
      "\n",
      "[1459 rows x 2 columns]\n"
     ]
    }
   ],
   "source": [
    "#Submission \n",
    "my_submission = pd.DataFrame({'Id': test_parent.Id, 'SalePrice': y_grad_predict})\n",
    "print(my_submission)\n",
    "\n",
    "my_submission.to_csv('submission.csv', encoding='utf-8', index=False)"
   ]
  },
  {
   "cell_type": "markdown",
   "metadata": {
    "_uuid": "233fc83022fdaab35d3c966a66b81b469a5609c3"
   },
   "source": [
    "If you found this notebook helpful or you just liked it , some upvotes would be very much appreciated - That will keep me motivated .\n",
    "\n",
    "Please drop down suggestions and comments if any, so that i can learn to build better solutions.\n",
    "\n",
    "**Thank You** :-)"
   ]
  }
 ],
 "metadata": {
  "kernelspec": {
   "display_name": "Python 3",
   "language": "python",
   "name": "python3"
  },
  "language_info": {
   "codemirror_mode": {
    "name": "ipython",
    "version": 3
   },
   "file_extension": ".py",
   "mimetype": "text/x-python",
   "name": "python",
   "nbconvert_exporter": "python",
   "pygments_lexer": "ipython3",
   "version": "3.6.6"
  }
 },
 "nbformat": 4,
 "nbformat_minor": 1
}
